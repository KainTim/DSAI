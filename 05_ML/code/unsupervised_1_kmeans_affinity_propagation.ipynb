{
 "cells": [
  {
   "cell_type": "markdown",
   "metadata": {},
   "source": [
    "<div style=\"\n",
    "    border: 2px solid #4CAF50; \n",
    "    padding: 15px; \n",
    "    background-color: #f4f4f4; \n",
    "    border-radius: 10px; \n",
    "    align-items: center;\">\n",
    "\n",
    "<h1 style=\"margin: 0; color: #4CAF50;\">Unsupervised ML Modelle: K-Means und Affinity Propagation</h1>\n",
    "<h2 style=\"margin: 5px 0; color: #555;\">DSAI</h2>\n",
    "<h3 style=\"margin: 5px 0; color: #555;\">Jakob Eggl</h3>\n",
    "\n",
    "<div style=\"flex-shrink: 0;\">\n",
    "    <img src=\"https://www.htl-grieskirchen.at/wp/wp-content/uploads/2022/11/logo_bildschirm-1024x503.png\" alt=\"Logo\" style=\"width: 250px; height: auto;\"/>\n",
    "</div>\n",
    "<p1> © 2024/25 Jakob Eggl. Nutzung oder Verbreitung nur mit ausdrücklicher Genehmigung des Autors.</p1>\n",
    "</div>\n",
    "<div style=\"flex: 1;\">\n",
    "</div>   "
   ]
  },
  {
   "cell_type": "markdown",
   "metadata": {},
   "source": [
    "## k-Means Clustering"
   ]
  },
  {
   "cell_type": "markdown",
   "metadata": {},
   "source": [
    "Wir sehen uns nun den $k$-Means Algorithmus an. Er ist ein sehr effizienter und weit verbreiteter *Clustering* Algorithmus, welcher häufig im Unsupervised Learning Bereich eingesetzt wird."
   ]
  },
  {
   "cell_type": "markdown",
   "metadata": {},
   "source": [
    "**Info:** Als **Clustering** bezeichnet man jenen Vorgang in Machine Learning, der Datenpunkte, je nach Ähnlichkeit, in Gruppen (=Cluster) zuweist."
   ]
  },
  {
   "cell_type": "markdown",
   "metadata": {},
   "source": [
    "Der $k$-means Algorithmus $\\ldots$\n",
    "* $\\ldots$ wird zum Clustering verwendet\n",
    "* $\\ldots$ arbeitet iterativ um den Datenpunkten den entsprechenden Cluster zuzuordnen\n",
    "* $\\ldots$ besitzt hauptsächlich die Hpyerparameter $k$ als die Anzahl der Cluster $k$ und die Distanzfunktion $d(x,y)$."
   ]
  },
  {
   "cell_type": "markdown",
   "metadata": {},
   "source": [
    "![K_Means_Overview](../resources/kmeans_overview.png)\n",
    "\n",
    "(von https://blog.flyingwhales.io/machinelearning/2021/05/05/kmeans-clustering)"
   ]
  },
  {
   "cell_type": "markdown",
   "metadata": {},
   "source": [
    "## Beschreibung des Algorithmus"
   ]
  },
  {
   "cell_type": "markdown",
   "metadata": {},
   "source": [
    "Wir erklären den Algorithmus nun anhand von einer beispielhaften Visualisierung mit 17 2-dimensionalen Datenpunkten und $k=3$ gewünschte Cluster. Der Algorithmus funktioniert natürlich auch für andere Kombinationen genau gleich. In diesem Beispiel wird außerdem die euklidische Distanz, sprich der Betrag vom Richtungsvektor zweier Punkte verwendet."
   ]
  },
  {
   "cell_type": "markdown",
   "metadata": {},
   "source": [
    "![k_Means_Visualized](../resources/kmeans_algorithm_visualized.png)"
   ]
  },
  {
   "cell_type": "markdown",
   "metadata": {},
   "source": [
    "**Ausgangssituation:** Wir haben (in diesem Fall 17) Datenpunkte, welche in dieser Grafik rot dargestellt sind. Diese Datenpunkte sind in diesem Fall 2-dimensional (2 Features). \n",
    "\n",
    "**Schritt 1:** Nun werden 3 Puntke ($k=3$) zufällig platziert. Sie haben hier die Farben \"Gelb, Grün und Blau\".\n",
    "\n",
    "**Schritt 2:** Im nächsten Schritt wird von jedem Datenpunkt der Abstand zu den jeweiligen Clustern berechnet. Anschließend wird jedem Datenpunkt die Farbe (entspricht dem Cluster) zugewiesen, der dem Punkt am nähesten ist. Zur Distanzberechnung wird die *Distanz-Funktion* verwendet.\n",
    "\n",
    "**Schritt 3:** Die 3 platzierten Cluster werden nun verschoben. Dabei ist die neue Position die mittlere Position der bisherigen Punkte, welche diesem Cluster angehören.\n",
    "\n",
    "**Schritt 4-5:** Nun wird wie in Schritt $2$ erneut berechnet, wie groß der Abstand von jedem Punkt zu den 3 Cluster-Punkten ist. Die Punkte werden umgefärbt, falls ein neuer Cluster nun näher ist. Dies ist bei den beiden, rot eingekreisten, blauen Punkten der Fall. Die Cluster-Punkte werden nun erneut verschoben, genauso wie in Schritt $3$.\n",
    "\n",
    "**Ende:** Da beim erneuten Distanzausrechnen keine Punkte mehr umgefärbt werden müssen, ist können wir den Algorithmus beenden."
   ]
  },
  {
   "cell_type": "markdown",
   "metadata": {},
   "source": [
    "**Wichtig:** In der Praxis kann es vorkommen, dass der Algorithmus nicht (früh genug) konvergiert. Sprich es verschieben sich die Clusterpunkte nach wie vor bei jeder Iteration. In diesem Fall bricht der Algorithmus nach einer gewissen Anzahl an Iterationen automatisch ab. Dieser Wert ist standardmäßig in `scikit-learn` auf 300 gesetzt, kann aber von uns geändert werden. "
   ]
  },
  {
   "cell_type": "markdown",
   "metadata": {},
   "source": [
    "Eine weitere, sehr informative, interaktive Demonstration kann hier gefunden werden:\n",
    "http://alekseynp.com/viz/k-means.html"
   ]
  },
  {
   "cell_type": "markdown",
   "metadata": {},
   "source": [
    "## Der Hyperparameter $k$"
   ]
  },
  {
   "cell_type": "markdown",
   "metadata": {},
   "source": [
    "* Legt fest, wie viele Cluster wir wollen.\n",
    "* Bestimmt somit die Anzahl der zufälligen Punkte, die am Anfang des Algorithmus verwendet werden."
   ]
  },
  {
   "cell_type": "markdown",
   "metadata": {},
   "source": [
    "## Die Distanz Funktion"
   ]
  },
  {
   "cell_type": "markdown",
   "metadata": {},
   "source": [
    "Ähnlich wie die meisten Algorithmen hier, wird zu den $k$ Cluster-Zentren der Abstand, sprich die Distanz (vergleiche zum Beispiel kNN), berechnet. Je nach gewählter Distanzfunktion ergibt dies ein anderes Verhalten des Algorithmus. Standardmäßig wird die euklidische Distanz verwendet, sprich der Betrag des Richtungsvektors zwischen den beiden Punkte.\n",
    "\n",
    "Wiederholung: Welche anderen Distanzfunktionen gibt es?"
   ]
  },
  {
   "cell_type": "markdown",
   "metadata": {},
   "source": [
    "## Vorteile und Nachteile von k-Means"
   ]
  },
  {
   "cell_type": "markdown",
   "metadata": {},
   "source": [
    "**Vorteile:**\n",
    "* Sehr schnell und effizient für große Datenmengen\n",
    "* Leicht verständlich und einfach zu implementieren\n",
    "* Wahl von $k$\n",
    "\n",
    "**Nachteile:**\n",
    "* Wahl von $k$\n",
    "* Funktionert nur für numerische Attribute (gut)\n",
    "* Stark abhängig von der gewählten Distanz Funktion, somit auch Distanz-Funktion $d(x,y)$ entscheidend\n",
    "* Sensibel gegenüber Ausreißer (neues Cluster-Zentrum sehr verzerrt)\n",
    "* Clustering basiert auf Distanz und nicht auf semantische Unterschiede. Warum ist das ein Nachteil? Wo ist dies ein Nachteil (Word Embeddings)?"
   ]
  },
  {
   "cell_type": "markdown",
   "metadata": {},
   "source": [
    "## Tipps und Tricks"
   ]
  },
  {
   "cell_type": "markdown",
   "metadata": {},
   "source": [
    "* Es gibt noch weitere Parameter, welche die Initialisierung der zufälligen Punkte beinflussen. Viele verwenden *k-means++*, default ist *auto*\n",
    "* Standardisieren der Daten ist notwendig (Ausreißer), ansonsten kann es sein, dass ungewünschte Ergebnisse resultieren\n",
    "* Bei kleinen Datasets kann, ähnlich wie bei *kNN* der Wert von $k$ probiert werden. Dazu benötigt man Metriken, welche die Qualität bewerten. Eine weitere Methode ist zum Beispiel die Elbow-Method (siehe Referate)."
   ]
  },
  {
   "cell_type": "markdown",
   "metadata": {},
   "source": [
    "## k-Means in Python"
   ]
  },
  {
   "cell_type": "code",
   "execution_count": 1,
   "metadata": {},
   "outputs": [],
   "source": [
    "import matplotlib.pyplot as plt\n",
    "from sklearn.datasets import load_iris, load_wine\n",
    "from sklearn.cluster import KMeans\n",
    "from sklearn.preprocessing import StandardScaler\n",
    "import pandas as pd"
   ]
  },
  {
   "cell_type": "code",
   "execution_count": 2,
   "metadata": {},
   "outputs": [],
   "source": [
    "X, y_true = load_iris(return_X_y=True, as_frame=False)"
   ]
  },
  {
   "cell_type": "code",
   "execution_count": 3,
   "metadata": {},
   "outputs": [
    {
     "data": {
      "text/plain": [
       "array([[5.1, 3.5, 1.4, 0.2],\n",
       "       [4.9, 3. , 1.4, 0.2],\n",
       "       [4.7, 3.2, 1.3, 0.2],\n",
       "       [4.6, 3.1, 1.5, 0.2],\n",
       "       [5. , 3.6, 1.4, 0.2],\n",
       "       [5.4, 3.9, 1.7, 0.4],\n",
       "       [4.6, 3.4, 1.4, 0.3],\n",
       "       [5. , 3.4, 1.5, 0.2],\n",
       "       [4.4, 2.9, 1.4, 0.2],\n",
       "       [4.9, 3.1, 1.5, 0.1],\n",
       "       [5.4, 3.7, 1.5, 0.2],\n",
       "       [4.8, 3.4, 1.6, 0.2],\n",
       "       [4.8, 3. , 1.4, 0.1],\n",
       "       [4.3, 3. , 1.1, 0.1],\n",
       "       [5.8, 4. , 1.2, 0.2],\n",
       "       [5.7, 4.4, 1.5, 0.4],\n",
       "       [5.4, 3.9, 1.3, 0.4],\n",
       "       [5.1, 3.5, 1.4, 0.3],\n",
       "       [5.7, 3.8, 1.7, 0.3],\n",
       "       [5.1, 3.8, 1.5, 0.3],\n",
       "       [5.4, 3.4, 1.7, 0.2],\n",
       "       [5.1, 3.7, 1.5, 0.4],\n",
       "       [4.6, 3.6, 1. , 0.2],\n",
       "       [5.1, 3.3, 1.7, 0.5],\n",
       "       [4.8, 3.4, 1.9, 0.2],\n",
       "       [5. , 3. , 1.6, 0.2],\n",
       "       [5. , 3.4, 1.6, 0.4],\n",
       "       [5.2, 3.5, 1.5, 0.2],\n",
       "       [5.2, 3.4, 1.4, 0.2],\n",
       "       [4.7, 3.2, 1.6, 0.2],\n",
       "       [4.8, 3.1, 1.6, 0.2],\n",
       "       [5.4, 3.4, 1.5, 0.4],\n",
       "       [5.2, 4.1, 1.5, 0.1],\n",
       "       [5.5, 4.2, 1.4, 0.2],\n",
       "       [4.9, 3.1, 1.5, 0.2],\n",
       "       [5. , 3.2, 1.2, 0.2],\n",
       "       [5.5, 3.5, 1.3, 0.2],\n",
       "       [4.9, 3.6, 1.4, 0.1],\n",
       "       [4.4, 3. , 1.3, 0.2],\n",
       "       [5.1, 3.4, 1.5, 0.2],\n",
       "       [5. , 3.5, 1.3, 0.3],\n",
       "       [4.5, 2.3, 1.3, 0.3],\n",
       "       [4.4, 3.2, 1.3, 0.2],\n",
       "       [5. , 3.5, 1.6, 0.6],\n",
       "       [5.1, 3.8, 1.9, 0.4],\n",
       "       [4.8, 3. , 1.4, 0.3],\n",
       "       [5.1, 3.8, 1.6, 0.2],\n",
       "       [4.6, 3.2, 1.4, 0.2],\n",
       "       [5.3, 3.7, 1.5, 0.2],\n",
       "       [5. , 3.3, 1.4, 0.2],\n",
       "       [7. , 3.2, 4.7, 1.4],\n",
       "       [6.4, 3.2, 4.5, 1.5],\n",
       "       [6.9, 3.1, 4.9, 1.5],\n",
       "       [5.5, 2.3, 4. , 1.3],\n",
       "       [6.5, 2.8, 4.6, 1.5],\n",
       "       [5.7, 2.8, 4.5, 1.3],\n",
       "       [6.3, 3.3, 4.7, 1.6],\n",
       "       [4.9, 2.4, 3.3, 1. ],\n",
       "       [6.6, 2.9, 4.6, 1.3],\n",
       "       [5.2, 2.7, 3.9, 1.4],\n",
       "       [5. , 2. , 3.5, 1. ],\n",
       "       [5.9, 3. , 4.2, 1.5],\n",
       "       [6. , 2.2, 4. , 1. ],\n",
       "       [6.1, 2.9, 4.7, 1.4],\n",
       "       [5.6, 2.9, 3.6, 1.3],\n",
       "       [6.7, 3.1, 4.4, 1.4],\n",
       "       [5.6, 3. , 4.5, 1.5],\n",
       "       [5.8, 2.7, 4.1, 1. ],\n",
       "       [6.2, 2.2, 4.5, 1.5],\n",
       "       [5.6, 2.5, 3.9, 1.1],\n",
       "       [5.9, 3.2, 4.8, 1.8],\n",
       "       [6.1, 2.8, 4. , 1.3],\n",
       "       [6.3, 2.5, 4.9, 1.5],\n",
       "       [6.1, 2.8, 4.7, 1.2],\n",
       "       [6.4, 2.9, 4.3, 1.3],\n",
       "       [6.6, 3. , 4.4, 1.4],\n",
       "       [6.8, 2.8, 4.8, 1.4],\n",
       "       [6.7, 3. , 5. , 1.7],\n",
       "       [6. , 2.9, 4.5, 1.5],\n",
       "       [5.7, 2.6, 3.5, 1. ],\n",
       "       [5.5, 2.4, 3.8, 1.1],\n",
       "       [5.5, 2.4, 3.7, 1. ],\n",
       "       [5.8, 2.7, 3.9, 1.2],\n",
       "       [6. , 2.7, 5.1, 1.6],\n",
       "       [5.4, 3. , 4.5, 1.5],\n",
       "       [6. , 3.4, 4.5, 1.6],\n",
       "       [6.7, 3.1, 4.7, 1.5],\n",
       "       [6.3, 2.3, 4.4, 1.3],\n",
       "       [5.6, 3. , 4.1, 1.3],\n",
       "       [5.5, 2.5, 4. , 1.3],\n",
       "       [5.5, 2.6, 4.4, 1.2],\n",
       "       [6.1, 3. , 4.6, 1.4],\n",
       "       [5.8, 2.6, 4. , 1.2],\n",
       "       [5. , 2.3, 3.3, 1. ],\n",
       "       [5.6, 2.7, 4.2, 1.3],\n",
       "       [5.7, 3. , 4.2, 1.2],\n",
       "       [5.7, 2.9, 4.2, 1.3],\n",
       "       [6.2, 2.9, 4.3, 1.3],\n",
       "       [5.1, 2.5, 3. , 1.1],\n",
       "       [5.7, 2.8, 4.1, 1.3],\n",
       "       [6.3, 3.3, 6. , 2.5],\n",
       "       [5.8, 2.7, 5.1, 1.9],\n",
       "       [7.1, 3. , 5.9, 2.1],\n",
       "       [6.3, 2.9, 5.6, 1.8],\n",
       "       [6.5, 3. , 5.8, 2.2],\n",
       "       [7.6, 3. , 6.6, 2.1],\n",
       "       [4.9, 2.5, 4.5, 1.7],\n",
       "       [7.3, 2.9, 6.3, 1.8],\n",
       "       [6.7, 2.5, 5.8, 1.8],\n",
       "       [7.2, 3.6, 6.1, 2.5],\n",
       "       [6.5, 3.2, 5.1, 2. ],\n",
       "       [6.4, 2.7, 5.3, 1.9],\n",
       "       [6.8, 3. , 5.5, 2.1],\n",
       "       [5.7, 2.5, 5. , 2. ],\n",
       "       [5.8, 2.8, 5.1, 2.4],\n",
       "       [6.4, 3.2, 5.3, 2.3],\n",
       "       [6.5, 3. , 5.5, 1.8],\n",
       "       [7.7, 3.8, 6.7, 2.2],\n",
       "       [7.7, 2.6, 6.9, 2.3],\n",
       "       [6. , 2.2, 5. , 1.5],\n",
       "       [6.9, 3.2, 5.7, 2.3],\n",
       "       [5.6, 2.8, 4.9, 2. ],\n",
       "       [7.7, 2.8, 6.7, 2. ],\n",
       "       [6.3, 2.7, 4.9, 1.8],\n",
       "       [6.7, 3.3, 5.7, 2.1],\n",
       "       [7.2, 3.2, 6. , 1.8],\n",
       "       [6.2, 2.8, 4.8, 1.8],\n",
       "       [6.1, 3. , 4.9, 1.8],\n",
       "       [6.4, 2.8, 5.6, 2.1],\n",
       "       [7.2, 3. , 5.8, 1.6],\n",
       "       [7.4, 2.8, 6.1, 1.9],\n",
       "       [7.9, 3.8, 6.4, 2. ],\n",
       "       [6.4, 2.8, 5.6, 2.2],\n",
       "       [6.3, 2.8, 5.1, 1.5],\n",
       "       [6.1, 2.6, 5.6, 1.4],\n",
       "       [7.7, 3. , 6.1, 2.3],\n",
       "       [6.3, 3.4, 5.6, 2.4],\n",
       "       [6.4, 3.1, 5.5, 1.8],\n",
       "       [6. , 3. , 4.8, 1.8],\n",
       "       [6.9, 3.1, 5.4, 2.1],\n",
       "       [6.7, 3.1, 5.6, 2.4],\n",
       "       [6.9, 3.1, 5.1, 2.3],\n",
       "       [5.8, 2.7, 5.1, 1.9],\n",
       "       [6.8, 3.2, 5.9, 2.3],\n",
       "       [6.7, 3.3, 5.7, 2.5],\n",
       "       [6.7, 3. , 5.2, 2.3],\n",
       "       [6.3, 2.5, 5. , 1.9],\n",
       "       [6.5, 3. , 5.2, 2. ],\n",
       "       [6.2, 3.4, 5.4, 2.3],\n",
       "       [5.9, 3. , 5.1, 1.8]])"
      ]
     },
     "execution_count": 3,
     "metadata": {},
     "output_type": "execute_result"
    }
   ],
   "source": [
    "X"
   ]
  },
  {
   "cell_type": "code",
   "execution_count": 4,
   "metadata": {},
   "outputs": [
    {
     "data": {
      "text/plain": [
       "(150, 4)"
      ]
     },
     "execution_count": 4,
     "metadata": {},
     "output_type": "execute_result"
    }
   ],
   "source": [
    "X.shape"
   ]
  },
  {
   "cell_type": "code",
   "execution_count": 5,
   "metadata": {},
   "outputs": [],
   "source": [
    "# normalisieren der Daten\n",
    "X = StandardScaler().fit_transform(X)"
   ]
  },
  {
   "cell_type": "code",
   "execution_count": 33,
   "metadata": {},
   "outputs": [],
   "source": [
    "# k-means clustering\n",
    "kmeans = KMeans(n_clusters=2, random_state=42)\n",
    "kmeans_labels = kmeans.fit_predict(X) # fit_predict führt fit und predict zusammen aus"
   ]
  },
  {
   "cell_type": "code",
   "execution_count": 30,
   "metadata": {},
   "outputs": [
    {
     "data": {
      "text/plain": [
       "array([1, 2, 2, 2, 1, 1, 1, 1, 2, 2, 1, 1, 2, 2, 1, 1, 1, 1, 1, 1, 1, 1,\n",
       "       1, 1, 1, 2, 1, 1, 1, 2, 2, 1, 1, 1, 2, 2, 1, 1, 2, 1, 1, 2, 2, 1,\n",
       "       1, 2, 1, 2, 1, 1, 0, 0, 0, 0, 0, 0, 0, 2, 0, 0, 2, 0, 0, 0, 0, 0,\n",
       "       0, 0, 0, 0, 0, 0, 0, 0, 0, 0, 0, 0, 0, 0, 0, 0, 0, 0, 0, 0, 0, 0,\n",
       "       0, 0, 0, 0, 0, 2, 0, 0, 0, 0, 2, 0, 0, 0, 0, 0, 0, 0, 0, 0, 0, 0,\n",
       "       0, 0, 0, 0, 0, 0, 0, 0, 0, 0, 0, 0, 0, 0, 0, 0, 0, 0, 0, 0, 0, 0,\n",
       "       0, 0, 0, 0, 0, 0, 0, 0, 0, 0, 0, 0, 0, 0, 0, 0, 0, 0], dtype=int32)"
      ]
     },
     "execution_count": 30,
     "metadata": {},
     "output_type": "execute_result"
    }
   ],
   "source": [
    "kmeans_labels"
   ]
  },
  {
   "cell_type": "code",
   "execution_count": 34,
   "metadata": {},
   "outputs": [
    {
     "data": {
      "application/vnd.microsoft.datawrangler.viewer.v0+json": {
       "columns": [
        {
         "name": "index",
         "rawType": "int64",
         "type": "integer"
        },
        {
         "name": "Sepal length",
         "rawType": "float64",
         "type": "float"
        },
        {
         "name": "Sepal width",
         "rawType": "float64",
         "type": "float"
        },
        {
         "name": "Petal length",
         "rawType": "float64",
         "type": "float"
        },
        {
         "name": "Petal width",
         "rawType": "float64",
         "type": "float"
        },
        {
         "name": "kmeans_labels",
         "rawType": "int32",
         "type": "integer"
        },
        {
         "name": "true_labels",
         "rawType": "int64",
         "type": "integer"
        }
       ],
       "conversionMethod": "pd.DataFrame",
       "ref": "e31bee49-0d4b-45e5-862b-0cef04b83a6d",
       "rows": [
        [
         "0",
         "-0.9006811702978099",
         "1.0190043519716065",
         "-1.3402265266227635",
         "-1.3154442950077407",
         "1",
         "0"
        ],
        [
         "1",
         "-1.1430169111851116",
         "-0.1319794793216258",
         "-1.3402265266227635",
         "-1.3154442950077407",
         "1",
         "0"
        ],
        [
         "2",
         "-1.3853526520724144",
         "0.3284140531956675",
         "-1.3970639535363667",
         "-1.3154442950077407",
         "1",
         "0"
        ],
        [
         "3",
         "-1.5065205225160663",
         "0.09821728693702086",
         "-1.2833890997091604",
         "-1.3154442950077407",
         "1",
         "0"
        ],
        [
         "4",
         "-1.0218490407414607",
         "1.2492011182302531",
         "-1.3402265266227635",
         "-1.3154442950077407",
         "1",
         "0"
        ],
        [
         "5",
         "-0.5371775589668552",
         "1.939791417006192",
         "-1.169714245881954",
         "-1.052179926427139",
         "1",
         "0"
        ],
        [
         "6",
         "-1.5065205225160663",
         "0.7888075857129598",
         "-1.3402265266227635",
         "-1.18381211071744",
         "1",
         "0"
        ],
        [
         "7",
         "-1.0218490407414607",
         "0.7888075857129598",
         "-1.2833890997091604",
         "-1.3154442950077407",
         "1",
         "0"
        ],
        [
         "8",
         "-1.748856263403368",
         "-0.36217624558027245",
         "-1.3402265266227635",
         "-1.3154442950077407",
         "1",
         "0"
        ],
        [
         "9",
         "-1.1430169111851116",
         "0.09821728693702086",
         "-1.2833890997091604",
         "-1.4470764792980415",
         "1",
         "0"
        ],
        [
         "10",
         "-0.5371775589668552",
         "1.4793978844888998",
         "-1.2833890997091604",
         "-1.3154442950077407",
         "1",
         "0"
        ],
        [
         "11",
         "-1.2641847816287635",
         "0.7888075857129598",
         "-1.2265516727955572",
         "-1.3154442950077407",
         "1",
         "0"
        ],
        [
         "12",
         "-1.2641847816287635",
         "-0.1319794793216258",
         "-1.3402265266227635",
         "-1.4470764792980415",
         "1",
         "0"
        ],
        [
         "13",
         "-1.87002413384702",
         "-0.1319794793216258",
         "-1.5107388073635728",
         "-1.4470764792980415",
         "1",
         "0"
        ],
        [
         "14",
         "-0.052506077192250644",
         "2.169988183264839",
         "-1.4539013804499696",
         "-1.3154442950077407",
         "1",
         "0"
        ],
        [
         "15",
         "-0.1736739476359015",
         "3.0907752482994253",
         "-1.2833890997091604",
         "-1.052179926427139",
         "1",
         "0"
        ],
        [
         "16",
         "-0.5371775589668552",
         "1.939791417006192",
         "-1.3970639535363667",
         "-1.052179926427139",
         "1",
         "0"
        ],
        [
         "17",
         "-0.9006811702978099",
         "1.0190043519716065",
         "-1.3402265266227635",
         "-1.18381211071744",
         "1",
         "0"
        ],
        [
         "18",
         "-0.1736739476359015",
         "1.7095946507475455",
         "-1.169714245881954",
         "-1.18381211071744",
         "1",
         "0"
        ],
        [
         "19",
         "-0.9006811702978099",
         "1.7095946507475455",
         "-1.2833890997091604",
         "-1.18381211071744",
         "1",
         "0"
        ],
        [
         "20",
         "-0.5371775589668552",
         "0.7888075857129598",
         "-1.169714245881954",
         "-1.3154442950077407",
         "1",
         "0"
        ],
        [
         "21",
         "-0.9006811702978099",
         "1.4793978844888998",
         "-1.2833890997091604",
         "-1.052179926427139",
         "1",
         "0"
        ],
        [
         "22",
         "-1.5065205225160663",
         "1.2492011182302531",
         "-1.567576234277176",
         "-1.3154442950077407",
         "1",
         "0"
        ],
        [
         "23",
         "-0.9006811702978099",
         "0.5586108194543131",
         "-1.169714245881954",
         "-0.9205477421368382",
         "1",
         "0"
        ],
        [
         "24",
         "-1.2641847816287635",
         "0.7888075857129598",
         "-1.056039392054748",
         "-1.3154442950077407",
         "1",
         "0"
        ],
        [
         "25",
         "-1.0218490407414607",
         "-0.1319794793216258",
         "-1.2265516727955572",
         "-1.3154442950077407",
         "1",
         "0"
        ],
        [
         "26",
         "-1.0218490407414607",
         "0.7888075857129598",
         "-1.2265516727955572",
         "-1.052179926427139",
         "1",
         "0"
        ],
        [
         "27",
         "-0.779513299854158",
         "1.0190043519716065",
         "-1.2833890997091604",
         "-1.3154442950077407",
         "1",
         "0"
        ],
        [
         "28",
         "-0.779513299854158",
         "0.7888075857129598",
         "-1.3402265266227635",
         "-1.3154442950077407",
         "1",
         "0"
        ],
        [
         "29",
         "-1.3853526520724144",
         "0.3284140531956675",
         "-1.2265516727955572",
         "-1.3154442950077407",
         "1",
         "0"
        ],
        [
         "30",
         "-1.2641847816287635",
         "0.09821728693702086",
         "-1.2265516727955572",
         "-1.3154442950077407",
         "1",
         "0"
        ],
        [
         "31",
         "-0.5371775589668552",
         "0.7888075857129598",
         "-1.2833890997091604",
         "-1.052179926427139",
         "1",
         "0"
        ],
        [
         "32",
         "-0.779513299854158",
         "2.400184949523484",
         "-1.2833890997091604",
         "-1.4470764792980415",
         "1",
         "0"
        ],
        [
         "33",
         "-0.4160096885232043",
         "2.630381715782132",
         "-1.3402265266227635",
         "-1.3154442950077407",
         "1",
         "0"
        ],
        [
         "34",
         "-1.1430169111851116",
         "0.09821728693702086",
         "-1.2833890997091604",
         "-1.3154442950077407",
         "1",
         "0"
        ],
        [
         "35",
         "-1.0218490407414607",
         "0.3284140531956675",
         "-1.4539013804499696",
         "-1.3154442950077407",
         "1",
         "0"
        ],
        [
         "36",
         "-0.4160096885232043",
         "1.0190043519716065",
         "-1.3970639535363667",
         "-1.3154442950077407",
         "1",
         "0"
        ],
        [
         "37",
         "-1.1430169111851116",
         "1.2492011182302531",
         "-1.3402265266227635",
         "-1.4470764792980415",
         "1",
         "0"
        ],
        [
         "38",
         "-1.748856263403368",
         "-0.1319794793216258",
         "-1.3970639535363667",
         "-1.3154442950077407",
         "1",
         "0"
        ],
        [
         "39",
         "-0.9006811702978099",
         "0.7888075857129598",
         "-1.2833890997091604",
         "-1.3154442950077407",
         "1",
         "0"
        ],
        [
         "40",
         "-1.0218490407414607",
         "1.0190043519716065",
         "-1.3970639535363667",
         "-1.18381211071744",
         "1",
         "0"
        ],
        [
         "41",
         "-1.6276883929597172",
         "-1.7433568431321513",
         "-1.3970639535363667",
         "-1.18381211071744",
         "1",
         "0"
        ],
        [
         "42",
         "-1.748856263403368",
         "0.3284140531956675",
         "-1.3970639535363667",
         "-1.3154442950077407",
         "1",
         "0"
        ],
        [
         "43",
         "-1.0218490407414607",
         "1.0190043519716065",
         "-1.2265516727955572",
         "-0.7889155578465374",
         "1",
         "0"
        ],
        [
         "44",
         "-0.9006811702978099",
         "1.7095946507475455",
         "-1.056039392054748",
         "-1.052179926427139",
         "1",
         "0"
        ],
        [
         "45",
         "-1.2641847816287635",
         "-0.1319794793216258",
         "-1.3402265266227635",
         "-1.18381211071744",
         "1",
         "0"
        ],
        [
         "46",
         "-0.9006811702978099",
         "1.7095946507475455",
         "-1.2265516727955572",
         "-1.3154442950077407",
         "1",
         "0"
        ],
        [
         "47",
         "-1.5065205225160663",
         "0.3284140531956675",
         "-1.3402265266227635",
         "-1.3154442950077407",
         "1",
         "0"
        ],
        [
         "48",
         "-0.6583454294105071",
         "1.4793978844888998",
         "-1.2833890997091604",
         "-1.3154442950077407",
         "1",
         "0"
        ],
        [
         "49",
         "-1.0218490407414607",
         "0.5586108194543131",
         "-1.3402265266227635",
         "-1.3154442950077407",
         "1",
         "0"
        ]
       ],
       "shape": {
        "columns": 6,
        "rows": 150
       }
      },
      "text/html": [
       "<div>\n",
       "<style scoped>\n",
       "    .dataframe tbody tr th:only-of-type {\n",
       "        vertical-align: middle;\n",
       "    }\n",
       "\n",
       "    .dataframe tbody tr th {\n",
       "        vertical-align: top;\n",
       "    }\n",
       "\n",
       "    .dataframe thead th {\n",
       "        text-align: right;\n",
       "    }\n",
       "</style>\n",
       "<table border=\"1\" class=\"dataframe\">\n",
       "  <thead>\n",
       "    <tr style=\"text-align: right;\">\n",
       "      <th></th>\n",
       "      <th>Sepal length</th>\n",
       "      <th>Sepal width</th>\n",
       "      <th>Petal length</th>\n",
       "      <th>Petal width</th>\n",
       "      <th>kmeans_labels</th>\n",
       "      <th>true_labels</th>\n",
       "    </tr>\n",
       "  </thead>\n",
       "  <tbody>\n",
       "    <tr>\n",
       "      <th>0</th>\n",
       "      <td>-0.900681</td>\n",
       "      <td>1.019004</td>\n",
       "      <td>-1.340227</td>\n",
       "      <td>-1.315444</td>\n",
       "      <td>1</td>\n",
       "      <td>0</td>\n",
       "    </tr>\n",
       "    <tr>\n",
       "      <th>1</th>\n",
       "      <td>-1.143017</td>\n",
       "      <td>-0.131979</td>\n",
       "      <td>-1.340227</td>\n",
       "      <td>-1.315444</td>\n",
       "      <td>1</td>\n",
       "      <td>0</td>\n",
       "    </tr>\n",
       "    <tr>\n",
       "      <th>2</th>\n",
       "      <td>-1.385353</td>\n",
       "      <td>0.328414</td>\n",
       "      <td>-1.397064</td>\n",
       "      <td>-1.315444</td>\n",
       "      <td>1</td>\n",
       "      <td>0</td>\n",
       "    </tr>\n",
       "    <tr>\n",
       "      <th>3</th>\n",
       "      <td>-1.506521</td>\n",
       "      <td>0.098217</td>\n",
       "      <td>-1.283389</td>\n",
       "      <td>-1.315444</td>\n",
       "      <td>1</td>\n",
       "      <td>0</td>\n",
       "    </tr>\n",
       "    <tr>\n",
       "      <th>4</th>\n",
       "      <td>-1.021849</td>\n",
       "      <td>1.249201</td>\n",
       "      <td>-1.340227</td>\n",
       "      <td>-1.315444</td>\n",
       "      <td>1</td>\n",
       "      <td>0</td>\n",
       "    </tr>\n",
       "    <tr>\n",
       "      <th>...</th>\n",
       "      <td>...</td>\n",
       "      <td>...</td>\n",
       "      <td>...</td>\n",
       "      <td>...</td>\n",
       "      <td>...</td>\n",
       "      <td>...</td>\n",
       "    </tr>\n",
       "    <tr>\n",
       "      <th>145</th>\n",
       "      <td>1.038005</td>\n",
       "      <td>-0.131979</td>\n",
       "      <td>0.819596</td>\n",
       "      <td>1.448832</td>\n",
       "      <td>0</td>\n",
       "      <td>2</td>\n",
       "    </tr>\n",
       "    <tr>\n",
       "      <th>146</th>\n",
       "      <td>0.553333</td>\n",
       "      <td>-1.282963</td>\n",
       "      <td>0.705921</td>\n",
       "      <td>0.922303</td>\n",
       "      <td>0</td>\n",
       "      <td>2</td>\n",
       "    </tr>\n",
       "    <tr>\n",
       "      <th>147</th>\n",
       "      <td>0.795669</td>\n",
       "      <td>-0.131979</td>\n",
       "      <td>0.819596</td>\n",
       "      <td>1.053935</td>\n",
       "      <td>0</td>\n",
       "      <td>2</td>\n",
       "    </tr>\n",
       "    <tr>\n",
       "      <th>148</th>\n",
       "      <td>0.432165</td>\n",
       "      <td>0.788808</td>\n",
       "      <td>0.933271</td>\n",
       "      <td>1.448832</td>\n",
       "      <td>0</td>\n",
       "      <td>2</td>\n",
       "    </tr>\n",
       "    <tr>\n",
       "      <th>149</th>\n",
       "      <td>0.068662</td>\n",
       "      <td>-0.131979</td>\n",
       "      <td>0.762758</td>\n",
       "      <td>0.790671</td>\n",
       "      <td>0</td>\n",
       "      <td>2</td>\n",
       "    </tr>\n",
       "  </tbody>\n",
       "</table>\n",
       "<p>150 rows × 6 columns</p>\n",
       "</div>"
      ],
      "text/plain": [
       "     Sepal length  Sepal width  Petal length  Petal width  kmeans_labels  \\\n",
       "0       -0.900681     1.019004     -1.340227    -1.315444              1   \n",
       "1       -1.143017    -0.131979     -1.340227    -1.315444              1   \n",
       "2       -1.385353     0.328414     -1.397064    -1.315444              1   \n",
       "3       -1.506521     0.098217     -1.283389    -1.315444              1   \n",
       "4       -1.021849     1.249201     -1.340227    -1.315444              1   \n",
       "..            ...          ...           ...          ...            ...   \n",
       "145      1.038005    -0.131979      0.819596     1.448832              0   \n",
       "146      0.553333    -1.282963      0.705921     0.922303              0   \n",
       "147      0.795669    -0.131979      0.819596     1.053935              0   \n",
       "148      0.432165     0.788808      0.933271     1.448832              0   \n",
       "149      0.068662    -0.131979      0.762758     0.790671              0   \n",
       "\n",
       "     true_labels  \n",
       "0              0  \n",
       "1              0  \n",
       "2              0  \n",
       "3              0  \n",
       "4              0  \n",
       "..           ...  \n",
       "145            2  \n",
       "146            2  \n",
       "147            2  \n",
       "148            2  \n",
       "149            2  \n",
       "\n",
       "[150 rows x 6 columns]"
      ]
     },
     "execution_count": 34,
     "metadata": {},
     "output_type": "execute_result"
    }
   ],
   "source": [
    "# Kombinieren der Clusterlabels mit den wahren Labels\n",
    "df = pd.DataFrame(X, columns=['Sepal length', 'Sepal width', 'Petal length', 'Petal width'])\n",
    "df['kmeans_labels'] = kmeans_labels\n",
    "df['true_labels'] = y_true\n",
    "df"
   ]
  },
  {
   "cell_type": "markdown",
   "metadata": {},
   "source": [
    "Funktioniert das gut oder schlecht (und wieso)?"
   ]
  },
  {
   "cell_type": "code",
   "execution_count": 35,
   "metadata": {},
   "outputs": [
    {
     "data": {
      "image/png": "[encoded data removed]",
      "text/plain": [
       "<Figure size 1000x500 with 1 Axes>"
      ]
     },
     "metadata": {},
     "output_type": "display_data"
    }
   ],
   "source": [
    "# Visualisierung der Ergebnisse\n",
    "plt.figure(figsize=(10, 5))\n",
    "plt.scatter(X[:, 0], X[:, 1], c=kmeans_labels) # WICHTIG: wir plotten nur die ersten beiden Dimensionen!  -> Nächstes mal lernen wir, wie wir mit Downprojection eine besser Visualisierung erhalten\n",
    "plt.show()"
   ]
  },
  {
   "cell_type": "code",
   "execution_count": 24,
   "metadata": {},
   "outputs": [
    {
     "data": {
      "image/png": "[encoded data removed]",
      "text/plain": [
       "<Figure size 1000x500 with 1 Axes>"
      ]
     },
     "metadata": {},
     "output_type": "display_data"
    }
   ],
   "source": [
    "# vergleichen wir das nun mit den echten Labels\n",
    "plt.figure(figsize=(10, 5))\n",
    "plt.scatter(X[:, 0], X[:, 1], c=y_true)\n",
    "plt.show()"
   ]
  },
  {
   "cell_type": "markdown",
   "metadata": {},
   "source": [
    "**Wichtig** Den 2. Plot haben wir normalerweise *NICHT* zur Verfügung. Im Unsupervised Learning ist kein Label vorhanden!"
   ]
  },
  {
   "cell_type": "markdown",
   "metadata": {},
   "source": [
    "Was passiert, wenn wir die Anzahl der Cluster ändern?\n",
    "Wie gut funktioniert das ganze bei dem *Wine* Dataset?"
   ]
  },
  {
   "cell_type": "markdown",
   "metadata": {},
   "source": [
    "## Affinity Propagation"
   ]
  },
  {
   "cell_type": "markdown",
   "metadata": {},
   "source": [
    "Wir sehen uns nun den *Affinity-Propagation* Clustering Algorithmus an. Im Gegensatz zu $k$-Means ist dieser ein Clustering-Algorithmus, der **keine vorherige Festlegung der Clusteranzahl** benötigt. Stattdessen basiert er auf einem Message-Passing-Verfahren zur Identifikation der optimalen Clusterzentren."
   ]
  },
  {
   "cell_type": "markdown",
   "metadata": {},
   "source": [
    "Der Affinity Propagation Algorithmus $\\ldots$\n",
    "* $\\ldots$ wird zur Clusterbildung verwendet\n",
    "* $\\ldots$ nutzt ein Ähnlichkeitsmaß zwischen Datenpunkten, anstatt einer Distanzmetrik\n",
    "* $\\ldots$ **wählt Datenpunkte** als Cluster Centers"
   ]
  },
  {
   "cell_type": "markdown",
   "metadata": {},
   "source": [
    "![Affinity_Propagation_Overview](../resources/affinity_propagation_overview.png)\n",
    "\n",
    "(von https://python.plainenglish.io/the-mechanics-of-affinity-propagation-clustering-eb199cc7a7c2?gi=4a1093a86978)"
   ]
  },
  {
   "cell_type": "markdown",
   "metadata": {},
   "source": [
    "## Beschreibung des Algorithmus"
   ]
  },
  {
   "cell_type": "markdown",
   "metadata": {},
   "source": [
    "1. **Punkte als mögliche Clusterzentren betrachten:**  \n",
    "   Jeder Datenpunkt wird zunächst als potenzielles Clusterzentrum angesehen.\n",
    "   \n",
    "2. **Austausch von \"Botschaften\" zwischen den Punkten:**  \n",
    "   Die Punkte kommunizieren miteinander, um herauszufinden, welche Punkte gute Clusterzentren (sogenannte **Exemplare**) sein könnten. Dabei werden zwei Arten von Informationen ausgetauscht:\n",
    "   - **\"Verantwortung\"**: Ein Punkt teilt einem anderen Punkt mit, wie gut er sich als dessen Clusterzentrum eignet.\n",
    "   - **\"Verfügbarkeit\"**: Ein Punkt teilt mit, wie sehr er bereit ist, ein Clusterzentrum zu sein.\n",
    "\n",
    "3. **Iterativer Prozess:**  \n",
    "   Diese Kommunikation wird in mehreren Runden durchgeführt, bis sich die Clusterzentren stabilisiert haben.\n",
    "\n",
    "4. **Zuordnung der Punkte:**  \n",
    "   Am Ende ordnet der Algorithmus alle Punkte den endgültigen Clusterzentren zu."
   ]
  },
  {
   "cell_type": "markdown",
   "metadata": {},
   "source": [
    "Wir geben nun auch noch ein **Beispiel** an, um sich das besser vorstellen zu können."
   ]
  },
  {
   "cell_type": "markdown",
   "metadata": {},
   "source": [
    "**Ein Beispiel zur Veranschaulichung**\n",
    "\n",
    "Stellen wir uns vor, du arbeitest in einem Unternehmen und möchtest Teams basierend auf den Fähigkeiten und Interessen der Mitarbeiter bilden.\n",
    "\n",
    "1. **Jeder Mitarbeiter ist ein potenzielles Team-Leader-Kandidat.**  \n",
    "   Anfangs wird niemand als Teamleiter festgelegt – jeder könnte einer sein.\n",
    "\n",
    "2. **Mitarbeiter tauschen Informationen aus.**  \n",
    "   Sie bewerten einander:  \n",
    "   - *Verantwortung:* \"Passt Person X als Teamleiter zu mir?\"  \n",
    "   - *Verfügbarkeit:* \"Bin ich überhaupt gut als Teamleiter geeignet?\"  \n",
    "\n",
    "3. **Nach mehreren Feedback-Runden stehen die besten Teamleiter fest.**  \n",
    "   Mitarbeiter, die am meisten Unterstützung als Teamleiter erhalten, werden zu Clusterzentren.\n",
    "\n",
    "4. **Alle anderen schließen sich dem nächstgelegenen Teamleiter an.**  \n",
    "   Jetzt sind klare Teams entstanden, ohne dass vorher festgelegt wurde, wie viele es sein müssen."
   ]
  },
  {
   "cell_type": "markdown",
   "metadata": {},
   "source": [
    "**Hinweis:** Die obige Beschreibung ist eher oberflächlich, jedoch würde die genaue Beschreibung dieses Algorithmus hier etwas über das Ziel hinaus schießen. "
   ]
  },
  {
   "cell_type": "markdown",
   "metadata": {},
   "source": [
    "## Vorteile und Nachteile"
   ]
  },
  {
   "cell_type": "markdown",
   "metadata": {},
   "source": [
    "**Vorteile**:\n",
    "* Kein Wert $k$ als Anzahl der Clusterzentren notwendig\n",
    "* Schnelle konvergenz\n",
    "\n",
    "**Nachteile:**\n",
    "* Kein Wert $k$ als Anzahl der Clusterzentren notwendig\n",
    "* Sehr teuer (rechenintensiv)\n",
    "* Schwer zu interpretieren, was genau passiert"
   ]
  },
  {
   "cell_type": "markdown",
   "metadata": {},
   "source": [
    "## Tipps und Tricks\n",
    "\n",
    "* Es können Präferenzwerte für gewisse Punkte vergeben werden, falls diese stärker/schwächer als potenzielle Cluster-Zentren herangezogen werden sollen\n",
    "* Da auch dieser Algorithmus iterativ funktioniert, kann es bei schlechter Performance helfen, Parameter, die das Algorithmus- bzw. das Konvergenzverhalten beinflussen, zu ändern"
   ]
  },
  {
   "cell_type": "markdown",
   "metadata": {},
   "source": [
    "## Affinity Propagation in Python"
   ]
  },
  {
   "cell_type": "code",
   "execution_count": 11,
   "metadata": {},
   "outputs": [],
   "source": [
    "import matplotlib.pyplot as plt\n",
    "from sklearn.datasets import load_iris, load_wine\n",
    "from sklearn.cluster import AffinityPropagation\n",
    "from sklearn.preprocessing import StandardScaler\n",
    "import pandas as pd\n",
    "import numpy as np"
   ]
  },
  {
   "cell_type": "code",
   "execution_count": 12,
   "metadata": {},
   "outputs": [],
   "source": [
    "X, y_true = load_iris(return_X_y=True, as_frame=False)"
   ]
  },
  {
   "cell_type": "code",
   "execution_count": null,
   "metadata": {},
   "outputs": [
    {
     "data": {
      "text/plain": [
       "array([0, 0, 0, 0, 0, 0, 0, 0, 0, 0, 0, 0, 0, 0, 0, 0, 0, 0, 0, 0, 0, 0,\n",
       "       0, 0, 0, 0, 0, 0, 0, 0, 0, 0, 0, 0, 0, 0, 0, 0, 0, 0, 0, 0, 0, 0,\n",
       "       0, 0, 0, 0, 0, 0, 1, 1, 1, 1, 1, 1, 1, 1, 1, 1, 1, 1, 1, 1, 1, 1,\n",
       "       1, 1, 1, 1, 1, 1, 1, 1, 1, 1, 1, 1, 1, 1, 1, 1, 1, 1, 1, 1, 1, 1,\n",
       "       1, 1, 1, 1, 1, 1, 1, 1, 1, 1, 1, 1, 2, 2, 2, 2, 2, 2, 2, 2, 2, 2,\n",
       "       2, 2, 2, 2, 2, 2, 2, 2, 2, 2, 2, 2, 2, 2, 2, 2, 2, 2, 2, 2, 2, 2,\n",
       "       2, 2, 2, 2, 2, 2, 2, 2, 2, 2, 2, 2, 2, 2, 2, 2, 2, 2])"
      ]
     },
     "execution_count": 23,
     "metadata": {},
     "output_type": "execute_result"
    }
   ],
   "source": [
    "y_true"
   ]
  },
  {
   "cell_type": "code",
   "execution_count": 13,
   "metadata": {},
   "outputs": [
    {
     "data": {
      "text/plain": [
       "array([[5.1, 3.5, 1.4, 0.2],\n",
       "       [4.9, 3. , 1.4, 0.2],\n",
       "       [4.7, 3.2, 1.3, 0.2],\n",
       "       [4.6, 3.1, 1.5, 0.2],\n",
       "       [5. , 3.6, 1.4, 0.2],\n",
       "       [5.4, 3.9, 1.7, 0.4],\n",
       "       [4.6, 3.4, 1.4, 0.3],\n",
       "       [5. , 3.4, 1.5, 0.2],\n",
       "       [4.4, 2.9, 1.4, 0.2],\n",
       "       [4.9, 3.1, 1.5, 0.1],\n",
       "       [5.4, 3.7, 1.5, 0.2],\n",
       "       [4.8, 3.4, 1.6, 0.2],\n",
       "       [4.8, 3. , 1.4, 0.1],\n",
       "       [4.3, 3. , 1.1, 0.1],\n",
       "       [5.8, 4. , 1.2, 0.2],\n",
       "       [5.7, 4.4, 1.5, 0.4],\n",
       "       [5.4, 3.9, 1.3, 0.4],\n",
       "       [5.1, 3.5, 1.4, 0.3],\n",
       "       [5.7, 3.8, 1.7, 0.3],\n",
       "       [5.1, 3.8, 1.5, 0.3],\n",
       "       [5.4, 3.4, 1.7, 0.2],\n",
       "       [5.1, 3.7, 1.5, 0.4],\n",
       "       [4.6, 3.6, 1. , 0.2],\n",
       "       [5.1, 3.3, 1.7, 0.5],\n",
       "       [4.8, 3.4, 1.9, 0.2],\n",
       "       [5. , 3. , 1.6, 0.2],\n",
       "       [5. , 3.4, 1.6, 0.4],\n",
       "       [5.2, 3.5, 1.5, 0.2],\n",
       "       [5.2, 3.4, 1.4, 0.2],\n",
       "       [4.7, 3.2, 1.6, 0.2],\n",
       "       [4.8, 3.1, 1.6, 0.2],\n",
       "       [5.4, 3.4, 1.5, 0.4],\n",
       "       [5.2, 4.1, 1.5, 0.1],\n",
       "       [5.5, 4.2, 1.4, 0.2],\n",
       "       [4.9, 3.1, 1.5, 0.2],\n",
       "       [5. , 3.2, 1.2, 0.2],\n",
       "       [5.5, 3.5, 1.3, 0.2],\n",
       "       [4.9, 3.6, 1.4, 0.1],\n",
       "       [4.4, 3. , 1.3, 0.2],\n",
       "       [5.1, 3.4, 1.5, 0.2],\n",
       "       [5. , 3.5, 1.3, 0.3],\n",
       "       [4.5, 2.3, 1.3, 0.3],\n",
       "       [4.4, 3.2, 1.3, 0.2],\n",
       "       [5. , 3.5, 1.6, 0.6],\n",
       "       [5.1, 3.8, 1.9, 0.4],\n",
       "       [4.8, 3. , 1.4, 0.3],\n",
       "       [5.1, 3.8, 1.6, 0.2],\n",
       "       [4.6, 3.2, 1.4, 0.2],\n",
       "       [5.3, 3.7, 1.5, 0.2],\n",
       "       [5. , 3.3, 1.4, 0.2],\n",
       "       [7. , 3.2, 4.7, 1.4],\n",
       "       [6.4, 3.2, 4.5, 1.5],\n",
       "       [6.9, 3.1, 4.9, 1.5],\n",
       "       [5.5, 2.3, 4. , 1.3],\n",
       "       [6.5, 2.8, 4.6, 1.5],\n",
       "       [5.7, 2.8, 4.5, 1.3],\n",
       "       [6.3, 3.3, 4.7, 1.6],\n",
       "       [4.9, 2.4, 3.3, 1. ],\n",
       "       [6.6, 2.9, 4.6, 1.3],\n",
       "       [5.2, 2.7, 3.9, 1.4],\n",
       "       [5. , 2. , 3.5, 1. ],\n",
       "       [5.9, 3. , 4.2, 1.5],\n",
       "       [6. , 2.2, 4. , 1. ],\n",
       "       [6.1, 2.9, 4.7, 1.4],\n",
       "       [5.6, 2.9, 3.6, 1.3],\n",
       "       [6.7, 3.1, 4.4, 1.4],\n",
       "       [5.6, 3. , 4.5, 1.5],\n",
       "       [5.8, 2.7, 4.1, 1. ],\n",
       "       [6.2, 2.2, 4.5, 1.5],\n",
       "       [5.6, 2.5, 3.9, 1.1],\n",
       "       [5.9, 3.2, 4.8, 1.8],\n",
       "       [6.1, 2.8, 4. , 1.3],\n",
       "       [6.3, 2.5, 4.9, 1.5],\n",
       "       [6.1, 2.8, 4.7, 1.2],\n",
       "       [6.4, 2.9, 4.3, 1.3],\n",
       "       [6.6, 3. , 4.4, 1.4],\n",
       "       [6.8, 2.8, 4.8, 1.4],\n",
       "       [6.7, 3. , 5. , 1.7],\n",
       "       [6. , 2.9, 4.5, 1.5],\n",
       "       [5.7, 2.6, 3.5, 1. ],\n",
       "       [5.5, 2.4, 3.8, 1.1],\n",
       "       [5.5, 2.4, 3.7, 1. ],\n",
       "       [5.8, 2.7, 3.9, 1.2],\n",
       "       [6. , 2.7, 5.1, 1.6],\n",
       "       [5.4, 3. , 4.5, 1.5],\n",
       "       [6. , 3.4, 4.5, 1.6],\n",
       "       [6.7, 3.1, 4.7, 1.5],\n",
       "       [6.3, 2.3, 4.4, 1.3],\n",
       "       [5.6, 3. , 4.1, 1.3],\n",
       "       [5.5, 2.5, 4. , 1.3],\n",
       "       [5.5, 2.6, 4.4, 1.2],\n",
       "       [6.1, 3. , 4.6, 1.4],\n",
       "       [5.8, 2.6, 4. , 1.2],\n",
       "       [5. , 2.3, 3.3, 1. ],\n",
       "       [5.6, 2.7, 4.2, 1.3],\n",
       "       [5.7, 3. , 4.2, 1.2],\n",
       "       [5.7, 2.9, 4.2, 1.3],\n",
       "       [6.2, 2.9, 4.3, 1.3],\n",
       "       [5.1, 2.5, 3. , 1.1],\n",
       "       [5.7, 2.8, 4.1, 1.3],\n",
       "       [6.3, 3.3, 6. , 2.5],\n",
       "       [5.8, 2.7, 5.1, 1.9],\n",
       "       [7.1, 3. , 5.9, 2.1],\n",
       "       [6.3, 2.9, 5.6, 1.8],\n",
       "       [6.5, 3. , 5.8, 2.2],\n",
       "       [7.6, 3. , 6.6, 2.1],\n",
       "       [4.9, 2.5, 4.5, 1.7],\n",
       "       [7.3, 2.9, 6.3, 1.8],\n",
       "       [6.7, 2.5, 5.8, 1.8],\n",
       "       [7.2, 3.6, 6.1, 2.5],\n",
       "       [6.5, 3.2, 5.1, 2. ],\n",
       "       [6.4, 2.7, 5.3, 1.9],\n",
       "       [6.8, 3. , 5.5, 2.1],\n",
       "       [5.7, 2.5, 5. , 2. ],\n",
       "       [5.8, 2.8, 5.1, 2.4],\n",
       "       [6.4, 3.2, 5.3, 2.3],\n",
       "       [6.5, 3. , 5.5, 1.8],\n",
       "       [7.7, 3.8, 6.7, 2.2],\n",
       "       [7.7, 2.6, 6.9, 2.3],\n",
       "       [6. , 2.2, 5. , 1.5],\n",
       "       [6.9, 3.2, 5.7, 2.3],\n",
       "       [5.6, 2.8, 4.9, 2. ],\n",
       "       [7.7, 2.8, 6.7, 2. ],\n",
       "       [6.3, 2.7, 4.9, 1.8],\n",
       "       [6.7, 3.3, 5.7, 2.1],\n",
       "       [7.2, 3.2, 6. , 1.8],\n",
       "       [6.2, 2.8, 4.8, 1.8],\n",
       "       [6.1, 3. , 4.9, 1.8],\n",
       "       [6.4, 2.8, 5.6, 2.1],\n",
       "       [7.2, 3. , 5.8, 1.6],\n",
       "       [7.4, 2.8, 6.1, 1.9],\n",
       "       [7.9, 3.8, 6.4, 2. ],\n",
       "       [6.4, 2.8, 5.6, 2.2],\n",
       "       [6.3, 2.8, 5.1, 1.5],\n",
       "       [6.1, 2.6, 5.6, 1.4],\n",
       "       [7.7, 3. , 6.1, 2.3],\n",
       "       [6.3, 3.4, 5.6, 2.4],\n",
       "       [6.4, 3.1, 5.5, 1.8],\n",
       "       [6. , 3. , 4.8, 1.8],\n",
       "       [6.9, 3.1, 5.4, 2.1],\n",
       "       [6.7, 3.1, 5.6, 2.4],\n",
       "       [6.9, 3.1, 5.1, 2.3],\n",
       "       [5.8, 2.7, 5.1, 1.9],\n",
       "       [6.8, 3.2, 5.9, 2.3],\n",
       "       [6.7, 3.3, 5.7, 2.5],\n",
       "       [6.7, 3. , 5.2, 2.3],\n",
       "       [6.3, 2.5, 5. , 1.9],\n",
       "       [6.5, 3. , 5.2, 2. ],\n",
       "       [6.2, 3.4, 5.4, 2.3],\n",
       "       [5.9, 3. , 5.1, 1.8]])"
      ]
     },
     "execution_count": 13,
     "metadata": {},
     "output_type": "execute_result"
    }
   ],
   "source": [
    "X"
   ]
  },
  {
   "cell_type": "code",
   "execution_count": 14,
   "metadata": {},
   "outputs": [
    {
     "data": {
      "text/plain": [
       "(150, 4)"
      ]
     },
     "execution_count": 14,
     "metadata": {},
     "output_type": "execute_result"
    }
   ],
   "source": [
    "X.shape"
   ]
  },
  {
   "cell_type": "code",
   "execution_count": 15,
   "metadata": {},
   "outputs": [],
   "source": [
    "# Normalisieren der Daten\n",
    "X = StandardScaler().fit_transform(X)"
   ]
  },
  {
   "cell_type": "code",
   "execution_count": 16,
   "metadata": {},
   "outputs": [],
   "source": [
    "# affinity propagation clustering\n",
    "affinity_prop = AffinityPropagation(random_state=42)\n",
    "affinity_prop_labels = affinity_prop.fit_predict(X) # fit_predict führt fit und predict zusammen aus"
   ]
  },
  {
   "cell_type": "code",
   "execution_count": 17,
   "metadata": {},
   "outputs": [
    {
     "data": {
      "text/plain": [
       "array([1, 0, 0, 0, 1, 1, 0, 0, 0, 0, 1, 0, 0, 0, 1, 1, 1, 1, 1, 1, 1, 1,\n",
       "       1, 0, 0, 0, 0, 1, 1, 0, 0, 1, 1, 1, 0, 0, 1, 1, 0, 1, 1, 0, 0, 1,\n",
       "       1, 0, 1, 0, 1, 0, 3, 3, 3, 2, 7, 4, 3, 2, 3, 4, 2, 4, 2, 7, 4, 3,\n",
       "       4, 4, 2, 2, 7, 4, 7, 4, 3, 3, 3, 3, 7, 2, 2, 2, 4, 7, 4, 3, 3, 2,\n",
       "       4, 2, 4, 7, 4, 2, 4, 4, 4, 4, 2, 4, 8, 7, 5, 7, 8, 5, 2, 5, 7, 6,\n",
       "       8, 7, 8, 7, 7, 8, 3, 6, 5, 2, 8, 7, 5, 7, 8, 5, 7, 7, 7, 5, 5, 6,\n",
       "       7, 7, 7, 5, 8, 3, 7, 8, 8, 8, 7, 8, 8, 8, 7, 8, 8, 7])"
      ]
     },
     "execution_count": 17,
     "metadata": {},
     "output_type": "execute_result"
    }
   ],
   "source": [
    "affinity_prop_labels"
   ]
  },
  {
   "cell_type": "code",
   "execution_count": 18,
   "metadata": {},
   "outputs": [
    {
     "data": {
      "text/plain": [
       "9"
      ]
     },
     "execution_count": 18,
     "metadata": {},
     "output_type": "execute_result"
    }
   ],
   "source": [
    "# Anzahl der Cluster in Affinity Propagation\n",
    "n_clusters = len(np.unique(affinity_prop_labels))\n",
    "n_clusters"
   ]
  },
  {
   "cell_type": "code",
   "execution_count": 19,
   "metadata": {},
   "outputs": [
    {
     "data": {
      "application/vnd.microsoft.datawrangler.viewer.v0+json": {
       "columns": [
        {
         "name": "index",
         "rawType": "int64",
         "type": "integer"
        },
        {
         "name": "Sepal length",
         "rawType": "float64",
         "type": "float"
        },
        {
         "name": "Sepal width",
         "rawType": "float64",
         "type": "float"
        },
        {
         "name": "Petal length",
         "rawType": "float64",
         "type": "float"
        },
        {
         "name": "Petal width",
         "rawType": "float64",
         "type": "float"
        },
        {
         "name": "affinity_prop_labels",
         "rawType": "int64",
         "type": "integer"
        },
        {
         "name": "true_labels",
         "rawType": "int64",
         "type": "integer"
        }
       ],
       "conversionMethod": "pd.DataFrame",
       "ref": "92265ec4-3eff-4106-a1a7-a4590b2e6e30",
       "rows": [
        [
         "0",
         "-0.9006811702978099",
         "1.0190043519716065",
         "-1.3402265266227635",
         "-1.3154442950077407",
         "1",
         "0"
        ],
        [
         "1",
         "-1.1430169111851116",
         "-0.1319794793216258",
         "-1.3402265266227635",
         "-1.3154442950077407",
         "0",
         "0"
        ],
        [
         "2",
         "-1.3853526520724144",
         "0.3284140531956675",
         "-1.3970639535363667",
         "-1.3154442950077407",
         "0",
         "0"
        ],
        [
         "3",
         "-1.5065205225160663",
         "0.09821728693702086",
         "-1.2833890997091604",
         "-1.3154442950077407",
         "0",
         "0"
        ],
        [
         "4",
         "-1.0218490407414607",
         "1.2492011182302531",
         "-1.3402265266227635",
         "-1.3154442950077407",
         "1",
         "0"
        ],
        [
         "5",
         "-0.5371775589668552",
         "1.939791417006192",
         "-1.169714245881954",
         "-1.052179926427139",
         "1",
         "0"
        ],
        [
         "6",
         "-1.5065205225160663",
         "0.7888075857129598",
         "-1.3402265266227635",
         "-1.18381211071744",
         "0",
         "0"
        ],
        [
         "7",
         "-1.0218490407414607",
         "0.7888075857129598",
         "-1.2833890997091604",
         "-1.3154442950077407",
         "0",
         "0"
        ],
        [
         "8",
         "-1.748856263403368",
         "-0.36217624558027245",
         "-1.3402265266227635",
         "-1.3154442950077407",
         "0",
         "0"
        ],
        [
         "9",
         "-1.1430169111851116",
         "0.09821728693702086",
         "-1.2833890997091604",
         "-1.4470764792980415",
         "0",
         "0"
        ],
        [
         "10",
         "-0.5371775589668552",
         "1.4793978844888998",
         "-1.2833890997091604",
         "-1.3154442950077407",
         "1",
         "0"
        ],
        [
         "11",
         "-1.2641847816287635",
         "0.7888075857129598",
         "-1.2265516727955572",
         "-1.3154442950077407",
         "0",
         "0"
        ],
        [
         "12",
         "-1.2641847816287635",
         "-0.1319794793216258",
         "-1.3402265266227635",
         "-1.4470764792980415",
         "0",
         "0"
        ],
        [
         "13",
         "-1.87002413384702",
         "-0.1319794793216258",
         "-1.5107388073635728",
         "-1.4470764792980415",
         "0",
         "0"
        ],
        [
         "14",
         "-0.052506077192250644",
         "2.169988183264839",
         "-1.4539013804499696",
         "-1.3154442950077407",
         "1",
         "0"
        ],
        [
         "15",
         "-0.1736739476359015",
         "3.0907752482994253",
         "-1.2833890997091604",
         "-1.052179926427139",
         "1",
         "0"
        ],
        [
         "16",
         "-0.5371775589668552",
         "1.939791417006192",
         "-1.3970639535363667",
         "-1.052179926427139",
         "1",
         "0"
        ],
        [
         "17",
         "-0.9006811702978099",
         "1.0190043519716065",
         "-1.3402265266227635",
         "-1.18381211071744",
         "1",
         "0"
        ],
        [
         "18",
         "-0.1736739476359015",
         "1.7095946507475455",
         "-1.169714245881954",
         "-1.18381211071744",
         "1",
         "0"
        ],
        [
         "19",
         "-0.9006811702978099",
         "1.7095946507475455",
         "-1.2833890997091604",
         "-1.18381211071744",
         "1",
         "0"
        ],
        [
         "20",
         "-0.5371775589668552",
         "0.7888075857129598",
         "-1.169714245881954",
         "-1.3154442950077407",
         "1",
         "0"
        ],
        [
         "21",
         "-0.9006811702978099",
         "1.4793978844888998",
         "-1.2833890997091604",
         "-1.052179926427139",
         "1",
         "0"
        ],
        [
         "22",
         "-1.5065205225160663",
         "1.2492011182302531",
         "-1.567576234277176",
         "-1.3154442950077407",
         "1",
         "0"
        ],
        [
         "23",
         "-0.9006811702978099",
         "0.5586108194543131",
         "-1.169714245881954",
         "-0.9205477421368382",
         "0",
         "0"
        ],
        [
         "24",
         "-1.2641847816287635",
         "0.7888075857129598",
         "-1.056039392054748",
         "-1.3154442950077407",
         "0",
         "0"
        ],
        [
         "25",
         "-1.0218490407414607",
         "-0.1319794793216258",
         "-1.2265516727955572",
         "-1.3154442950077407",
         "0",
         "0"
        ],
        [
         "26",
         "-1.0218490407414607",
         "0.7888075857129598",
         "-1.2265516727955572",
         "-1.052179926427139",
         "0",
         "0"
        ],
        [
         "27",
         "-0.779513299854158",
         "1.0190043519716065",
         "-1.2833890997091604",
         "-1.3154442950077407",
         "1",
         "0"
        ],
        [
         "28",
         "-0.779513299854158",
         "0.7888075857129598",
         "-1.3402265266227635",
         "-1.3154442950077407",
         "1",
         "0"
        ],
        [
         "29",
         "-1.3853526520724144",
         "0.3284140531956675",
         "-1.2265516727955572",
         "-1.3154442950077407",
         "0",
         "0"
        ],
        [
         "30",
         "-1.2641847816287635",
         "0.09821728693702086",
         "-1.2265516727955572",
         "-1.3154442950077407",
         "0",
         "0"
        ],
        [
         "31",
         "-0.5371775589668552",
         "0.7888075857129598",
         "-1.2833890997091604",
         "-1.052179926427139",
         "1",
         "0"
        ],
        [
         "32",
         "-0.779513299854158",
         "2.400184949523484",
         "-1.2833890997091604",
         "-1.4470764792980415",
         "1",
         "0"
        ],
        [
         "33",
         "-0.4160096885232043",
         "2.630381715782132",
         "-1.3402265266227635",
         "-1.3154442950077407",
         "1",
         "0"
        ],
        [
         "34",
         "-1.1430169111851116",
         "0.09821728693702086",
         "-1.2833890997091604",
         "-1.3154442950077407",
         "0",
         "0"
        ],
        [
         "35",
         "-1.0218490407414607",
         "0.3284140531956675",
         "-1.4539013804499696",
         "-1.3154442950077407",
         "0",
         "0"
        ],
        [
         "36",
         "-0.4160096885232043",
         "1.0190043519716065",
         "-1.3970639535363667",
         "-1.3154442950077407",
         "1",
         "0"
        ],
        [
         "37",
         "-1.1430169111851116",
         "1.2492011182302531",
         "-1.3402265266227635",
         "-1.4470764792980415",
         "1",
         "0"
        ],
        [
         "38",
         "-1.748856263403368",
         "-0.1319794793216258",
         "-1.3970639535363667",
         "-1.3154442950077407",
         "0",
         "0"
        ],
        [
         "39",
         "-0.9006811702978099",
         "0.7888075857129598",
         "-1.2833890997091604",
         "-1.3154442950077407",
         "1",
         "0"
        ],
        [
         "40",
         "-1.0218490407414607",
         "1.0190043519716065",
         "-1.3970639535363667",
         "-1.18381211071744",
         "1",
         "0"
        ],
        [
         "41",
         "-1.6276883929597172",
         "-1.7433568431321513",
         "-1.3970639535363667",
         "-1.18381211071744",
         "0",
         "0"
        ],
        [
         "42",
         "-1.748856263403368",
         "0.3284140531956675",
         "-1.3970639535363667",
         "-1.3154442950077407",
         "0",
         "0"
        ],
        [
         "43",
         "-1.0218490407414607",
         "1.0190043519716065",
         "-1.2265516727955572",
         "-0.7889155578465374",
         "1",
         "0"
        ],
        [
         "44",
         "-0.9006811702978099",
         "1.7095946507475455",
         "-1.056039392054748",
         "-1.052179926427139",
         "1",
         "0"
        ],
        [
         "45",
         "-1.2641847816287635",
         "-0.1319794793216258",
         "-1.3402265266227635",
         "-1.18381211071744",
         "0",
         "0"
        ],
        [
         "46",
         "-0.9006811702978099",
         "1.7095946507475455",
         "-1.2265516727955572",
         "-1.3154442950077407",
         "1",
         "0"
        ],
        [
         "47",
         "-1.5065205225160663",
         "0.3284140531956675",
         "-1.3402265266227635",
         "-1.3154442950077407",
         "0",
         "0"
        ],
        [
         "48",
         "-0.6583454294105071",
         "1.4793978844888998",
         "-1.2833890997091604",
         "-1.3154442950077407",
         "1",
         "0"
        ],
        [
         "49",
         "-1.0218490407414607",
         "0.5586108194543131",
         "-1.3402265266227635",
         "-1.3154442950077407",
         "0",
         "0"
        ]
       ],
       "shape": {
        "columns": 6,
        "rows": 150
       }
      },
      "text/html": [
       "<div>\n",
       "<style scoped>\n",
       "    .dataframe tbody tr th:only-of-type {\n",
       "        vertical-align: middle;\n",
       "    }\n",
       "\n",
       "    .dataframe tbody tr th {\n",
       "        vertical-align: top;\n",
       "    }\n",
       "\n",
       "    .dataframe thead th {\n",
       "        text-align: right;\n",
       "    }\n",
       "</style>\n",
       "<table border=\"1\" class=\"dataframe\">\n",
       "  <thead>\n",
       "    <tr style=\"text-align: right;\">\n",
       "      <th></th>\n",
       "      <th>Sepal length</th>\n",
       "      <th>Sepal width</th>\n",
       "      <th>Petal length</th>\n",
       "      <th>Petal width</th>\n",
       "      <th>affinity_prop_labels</th>\n",
       "      <th>true_labels</th>\n",
       "    </tr>\n",
       "  </thead>\n",
       "  <tbody>\n",
       "    <tr>\n",
       "      <th>0</th>\n",
       "      <td>-0.900681</td>\n",
       "      <td>1.019004</td>\n",
       "      <td>-1.340227</td>\n",
       "      <td>-1.315444</td>\n",
       "      <td>1</td>\n",
       "      <td>0</td>\n",
       "    </tr>\n",
       "    <tr>\n",
       "      <th>1</th>\n",
       "      <td>-1.143017</td>\n",
       "      <td>-0.131979</td>\n",
       "      <td>-1.340227</td>\n",
       "      <td>-1.315444</td>\n",
       "      <td>0</td>\n",
       "      <td>0</td>\n",
       "    </tr>\n",
       "    <tr>\n",
       "      <th>2</th>\n",
       "      <td>-1.385353</td>\n",
       "      <td>0.328414</td>\n",
       "      <td>-1.397064</td>\n",
       "      <td>-1.315444</td>\n",
       "      <td>0</td>\n",
       "      <td>0</td>\n",
       "    </tr>\n",
       "    <tr>\n",
       "      <th>3</th>\n",
       "      <td>-1.506521</td>\n",
       "      <td>0.098217</td>\n",
       "      <td>-1.283389</td>\n",
       "      <td>-1.315444</td>\n",
       "      <td>0</td>\n",
       "      <td>0</td>\n",
       "    </tr>\n",
       "    <tr>\n",
       "      <th>4</th>\n",
       "      <td>-1.021849</td>\n",
       "      <td>1.249201</td>\n",
       "      <td>-1.340227</td>\n",
       "      <td>-1.315444</td>\n",
       "      <td>1</td>\n",
       "      <td>0</td>\n",
       "    </tr>\n",
       "    <tr>\n",
       "      <th>...</th>\n",
       "      <td>...</td>\n",
       "      <td>...</td>\n",
       "      <td>...</td>\n",
       "      <td>...</td>\n",
       "      <td>...</td>\n",
       "      <td>...</td>\n",
       "    </tr>\n",
       "    <tr>\n",
       "      <th>145</th>\n",
       "      <td>1.038005</td>\n",
       "      <td>-0.131979</td>\n",
       "      <td>0.819596</td>\n",
       "      <td>1.448832</td>\n",
       "      <td>8</td>\n",
       "      <td>2</td>\n",
       "    </tr>\n",
       "    <tr>\n",
       "      <th>146</th>\n",
       "      <td>0.553333</td>\n",
       "      <td>-1.282963</td>\n",
       "      <td>0.705921</td>\n",
       "      <td>0.922303</td>\n",
       "      <td>7</td>\n",
       "      <td>2</td>\n",
       "    </tr>\n",
       "    <tr>\n",
       "      <th>147</th>\n",
       "      <td>0.795669</td>\n",
       "      <td>-0.131979</td>\n",
       "      <td>0.819596</td>\n",
       "      <td>1.053935</td>\n",
       "      <td>8</td>\n",
       "      <td>2</td>\n",
       "    </tr>\n",
       "    <tr>\n",
       "      <th>148</th>\n",
       "      <td>0.432165</td>\n",
       "      <td>0.788808</td>\n",
       "      <td>0.933271</td>\n",
       "      <td>1.448832</td>\n",
       "      <td>8</td>\n",
       "      <td>2</td>\n",
       "    </tr>\n",
       "    <tr>\n",
       "      <th>149</th>\n",
       "      <td>0.068662</td>\n",
       "      <td>-0.131979</td>\n",
       "      <td>0.762758</td>\n",
       "      <td>0.790671</td>\n",
       "      <td>7</td>\n",
       "      <td>2</td>\n",
       "    </tr>\n",
       "  </tbody>\n",
       "</table>\n",
       "<p>150 rows × 6 columns</p>\n",
       "</div>"
      ],
      "text/plain": [
       "     Sepal length  Sepal width  Petal length  Petal width  \\\n",
       "0       -0.900681     1.019004     -1.340227    -1.315444   \n",
       "1       -1.143017    -0.131979     -1.340227    -1.315444   \n",
       "2       -1.385353     0.328414     -1.397064    -1.315444   \n",
       "3       -1.506521     0.098217     -1.283389    -1.315444   \n",
       "4       -1.021849     1.249201     -1.340227    -1.315444   \n",
       "..            ...          ...           ...          ...   \n",
       "145      1.038005    -0.131979      0.819596     1.448832   \n",
       "146      0.553333    -1.282963      0.705921     0.922303   \n",
       "147      0.795669    -0.131979      0.819596     1.053935   \n",
       "148      0.432165     0.788808      0.933271     1.448832   \n",
       "149      0.068662    -0.131979      0.762758     0.790671   \n",
       "\n",
       "     affinity_prop_labels  true_labels  \n",
       "0                       1            0  \n",
       "1                       0            0  \n",
       "2                       0            0  \n",
       "3                       0            0  \n",
       "4                       1            0  \n",
       "..                    ...          ...  \n",
       "145                     8            2  \n",
       "146                     7            2  \n",
       "147                     8            2  \n",
       "148                     8            2  \n",
       "149                     7            2  \n",
       "\n",
       "[150 rows x 6 columns]"
      ]
     },
     "execution_count": 19,
     "metadata": {},
     "output_type": "execute_result"
    }
   ],
   "source": [
    "# Kombinieren der Clusterlabels mit den wahren Labels\n",
    "df = pd.DataFrame(X, columns=['Sepal length', 'Sepal width', 'Petal length', 'Petal width'])\n",
    "df['affinity_prop_labels'] = affinity_prop_labels\n",
    "df['true_labels'] = y_true\n",
    "df"
   ]
  },
  {
   "cell_type": "markdown",
   "metadata": {},
   "source": [
    "Wie bewerten wir das?"
   ]
  },
  {
   "cell_type": "code",
   "execution_count": 20,
   "metadata": {},
   "outputs": [
    {
     "data": {
      "image/png": "[encoded data removed]",
      "text/plain": [
       "<Figure size 1000x500 with 1 Axes>"
      ]
     },
     "metadata": {},
     "output_type": "display_data"
    }
   ],
   "source": [
    "# Visualisierung der Ergebnisse\n",
    "plt.figure(figsize=(10, 5))\n",
    "plt.scatter(X[:, 0], X[:, 1], c=affinity_prop_labels) # WICHTIG: wir plotten nur die ersten beiden Dimensionen!  -> Nächstes mal lernen wir, wie wir mit Downprojection eine besser Visualisierung erhalten\n",
    "plt.show()"
   ]
  },
  {
   "cell_type": "code",
   "execution_count": 21,
   "metadata": {},
   "outputs": [
    {
     "data": {
      "image/png": "[encoded data removed]",
      "text/plain": [
       "<Figure size 1000x500 with 1 Axes>"
      ]
     },
     "metadata": {},
     "output_type": "display_data"
    }
   ],
   "source": [
    "# Vergleichen wir das nun mit den echten Labels\n",
    "plt.figure(figsize=(10, 5))\n",
    "plt.scatter(X[:, 0], X[:, 1], c=y_true)\n",
    "plt.show()"
   ]
  },
  {
   "cell_type": "code",
   "execution_count": 22,
   "metadata": {},
   "outputs": [
    {
     "data": {
      "image/png": "[encoded data removed]",
      "text/plain": [
       "<Figure size 3000x500 with 3 Axes>"
      ]
     },
     "metadata": {},
     "output_type": "display_data"
    }
   ],
   "source": [
    "# Vergleich von affinity propagation und k-means nebeneinander und echten Labels\n",
    "\n",
    "plt.figure(figsize=(30, 5))\n",
    "plt.subplot(1, 3, 1)\n",
    "plt.scatter(X[:, 0], X[:, 1], c=affinity_prop_labels)\n",
    "plt.title(\"Affinity Propagation\")\n",
    "plt.subplot(1, 3, 2)\n",
    "plt.scatter(X[:, 0], X[:, 1], c=kmeans_labels)\n",
    "plt.title(\"K-Means\")\n",
    "plt.subplot(1, 3, 3)\n",
    "plt.scatter(X[:, 0], X[:, 1], c=y_true)\n",
    "plt.title(\"Echte Labels\")\n",
    "plt.show()"
   ]
  },
  {
   "cell_type": "markdown",
   "metadata": {},
   "source": [
    "Was sind hier die Unterschiede?"
   ]
  },
  {
   "cell_type": "markdown",
   "metadata": {},
   "source": [
    "---"
   ]
  },
  {
   "cell_type": "markdown",
   "metadata": {},
   "source": [
    "### Sonstiges\n",
    "\n",
    "* Es gibt noch viele weitere Clustering Methoden\n",
    "* Wir werden darauf aber nicht mehr genauer eingehen (Referat?)\n",
    "* Haben alle ihre Vor- und Nachteile"
   ]
  },
  {
   "cell_type": "markdown",
   "metadata": {},
   "source": [
    "---"
   ]
  },
  {
   "cell_type": "markdown",
   "metadata": {},
   "source": [
    "## Aufgabe"
   ]
  },
  {
   "cell_type": "markdown",
   "metadata": {},
   "source": [
    "* Verwende nun die folgenden Datasets und versuche die Aufgabenstellungen zu beantworten.\n",
    "* Lade dazu das Dataset mit den bekannten Methoden (Laden mit Hilfe von `pd.read_csv`).\n",
    "* Verwende für jede Aufgabe eigene Code-Zellen und dokumentiere für die verschiedenen Durchläufe die Ergebnisse.\n",
    "\n",
    "**Aufgaben**\n",
    "1) HELP International konnte rund 10 Millionen Dollar aufbringen. Nun muss der Geschäftsführer der NRO entscheiden, wie er dieses Geld strategisch und effektiv einsetzen will. Der CEO muss also entscheiden, welche Länder die Hilfe am dringendsten benötigen. Ihre Aufgabe als Datenwissenschaftler besteht also darin, die Länder anhand einiger sozioökonomischer und gesundheitlicher Faktoren zu kategorisieren, die die Gesamtentwicklung des Landes bestimmen. Sie müssen also Länder vorschlagen, auf die sich der CEO am meisten konzentrieren soll.\n",
    "\n",
    "    *Dataset:* Country `country.csv` (verwendet von https://www.kaggle.com/datasets/rohan0301/unsupervised-learning-on-country-data?select=Country-data.csv)\n",
    "\n",
    "2) Nach der HTL-Karriere beschließen Sie, für eine gewisse Zeit ins Ausland zu gehen. Dabei wollen Sie in ein Land ziehen, in welchem die Länder besonders glücklich sind. Versuchen Sie nun das nachfolgende Dataset zu gruppieren und herauszufinden, in welchen Ländern (Gruppen) die Menschen ähnlich glücklick zu sein scheinen.\n",
    "\n",
    "    *Dataset:* Happiness 2017 `happiness_2017.csv` (verwendet von https://www.kaggle.com/datasets/unsdsn/world-happiness?select=2017.csv)"
   ]
  },
  {
   "cell_type": "code",
   "execution_count": null,
   "metadata": {},
   "outputs": [
    {
     "name": "stdout",
     "output_type": "stream",
     "text": [
      "19\n"
     ]
    },
    {
     "data": {
      "image/png": "[encoded data removed]",
      "text/plain": [
       "<Figure size 1000x500 with 1 Axes>"
      ]
     },
     "metadata": {},
     "output_type": "display_data"
    }
   ],
   "source": [
    "import matplotlib.pyplot as plt\n",
    "from sklearn.datasets import load_iris, load_wine\n",
    "from sklearn.cluster import AffinityPropagation\n",
    "from sklearn.preprocessing import StandardScaler\n",
    "import pandas as pd\n",
    "import numpy as np\n",
    "ds = pd.read_csv(\"../../_data/country.csv\") # ggf. etwas anders als unser bisheriges Dataset\n",
    "ds = ds.dropna()\n",
    "X = ds.select_dtypes(include=[np.number])\n",
    "\n",
    "X = StandardScaler().fit_transform(X)\n",
    "affinity_prop = AffinityPropagation(random_state=42)\n",
    "affinity_prop_labels = affinity_prop.fit_predict(X) # fit_predict führt fit und predict zusammen aus\n",
    "n_clusters = len(np.unique(affinity_prop_labels))\n",
    "print(n_clusters)\n",
    "df = pd.DataFrame(X, )\n",
    "df['affinity_prop_labels'] = affinity_prop_labels\n",
    "\n",
    "# Plot mit Affinity-Labels\n",
    "plt.figure(figsize=(10, 5))\n",
    "plt.scatter(X[:, 0], X[:, 1], c=affinity_prop_labels) # WICHTIG: wir plotten nur die ersten beiden Dimensionen!  -> Nächstes mal lernen wir, wie wir mit Downprojection eine besser Visualisierung erhalten\n",
    "plt.show()"
   ]
  },
  {
   "cell_type": "code",
   "execution_count": 48,
   "metadata": {},
   "outputs": [
    {
     "name": "stdout",
     "output_type": "stream",
     "text": [
      "16\n"
     ]
    },
    {
     "data": {
      "image/png": "[encoded data removed]",
      "text/plain": [
       "<Figure size 1000x500 with 1 Axes>"
      ]
     },
     "metadata": {},
     "output_type": "display_data"
    }
   ],
   "source": [
    "import matplotlib.pyplot as plt\n",
    "from sklearn.datasets import load_iris, load_wine\n",
    "from sklearn.cluster import AffinityPropagation\n",
    "from sklearn.preprocessing import StandardScaler\n",
    "import pandas as pd\n",
    "import numpy as np\n",
    "ds = pd.read_csv(\"../../_data/happiness_2017.csv\") # ggf. etwas anders als unser bisheriges Dataset\n",
    "ds = ds.dropna()\n",
    "X = ds.select_dtypes(include=[np.number])\n",
    "\n",
    "X = StandardScaler().fit_transform(X)\n",
    "affinity_prop = AffinityPropagation(random_state=42)\n",
    "affinity_prop_labels = affinity_prop.fit_predict(X) # fit_predict führt fit und predict zusammen aus\n",
    "n_clusters = len(np.unique(affinity_prop_labels))\n",
    "print(n_clusters)\n",
    "df = pd.DataFrame(X, )\n",
    "df['affinity_prop_labels'] = affinity_prop_labels\n",
    "\n",
    "# Plot mit Affinity-Labels\n",
    "plt.figure(figsize=(10, 5))\n",
    "plt.scatter(X[:, 2], X[:, 3], c=affinity_prop_labels) # WICHTIG: wir plotten nur die ersten beiden Dimensionen!  -> Nächstes mal lernen wir, wie wir mit Downprojection eine besser Visualisierung erhalten\n",
    "plt.show()"
   ]
  }
 ],
 "metadata": {
  "kernelspec": {
   "display_name": "dsai",
   "language": "python",
   "name": "python3"
  },
  "language_info": {
   "codemirror_mode": {
    "name": "ipython",
    "version": 3
   },
   "file_extension": ".py",
   "mimetype": "text/x-python",
   "name": "python",
   "nbconvert_exporter": "python",
   "pygments_lexer": "ipython3",
   "version": "3.9.18"
  }
 },
 "nbformat": 4,
 "nbformat_minor": 2
}
